{
 "cells": [
  {
   "cell_type": "markdown",
   "metadata": {},
   "source": [
    "Author: Peter Akioyamen  \n",
    "Description: This program extracts the original MNIST data from zipped (.gz) files as stored on Yann Lecun's website"
   ]
  },
  {
   "cell_type": "code",
   "execution_count": 21,
   "metadata": {},
   "outputs": [],
   "source": [
    "# Import necessary libraries\n",
    "import os\n",
    "import gzip\n",
    "import shutil\n",
    "import numpy as np\n",
    "from mlxtend.data import loadlocal_mnist"
   ]
  },
  {
   "cell_type": "code",
   "execution_count": null,
   "metadata": {},
   "outputs": [],
   "source": [
    "# Retrieve, open, and unzip the zipped (.gz) MNIST data files\n",
    "file_list = os.listdir()[-4:]\n",
    "for gz_file in file_list:\n",
    "    with gzip.open(os.path.join(\".\", gz_file), 'rb') as f_in:\n",
    "        with open(\"./Data/\"+gz_file[0:-3], 'wb') as f_out:\n",
    "            shutil.copyfileobj(f_in, f_out)"
   ]
  },
  {
   "cell_type": "code",
   "execution_count": null,
   "metadata": {},
   "outputs": [],
   "source": [
    "# Read in the MNIST data from respective ubyte files\n",
    "X_train, y_train = loadlocal_mnist(images_path=\"./Data/train-images-idx3-ubyte\", \n",
    "                                   labels_path=\"./Data/train-labels-idx1-ubyte\")\n",
    "\n",
    "X_test, y_test = loadlocal_mnist(images_path=\"./Data/t10k-images-idx3-ubyte\", \n",
    "                                   labels_path=\"./Data/t10k-labels-idx1-ubyte\")"
   ]
  },
  {
   "cell_type": "code",
   "execution_count": null,
   "metadata": {},
   "outputs": [],
   "source": [
    "# Save each collection of observations into a csv file\n",
    "np.savetxt(fname=\"./Data/mnist_train_images.csv\", X=X_train, delimiter=\",\", fmt=\"%d\")\n",
    "np.savetxt(fname=\"./Data/mnist_train_labels.csv\", X=y_train, delimiter=\",\", fmt=\"%d\")\n",
    "np.savetxt(fname=\"./Data/mnist_test_images.csv\", X=X_test, delimiter=\",\", fmt=\"%d\")\n",
    "np.savetxt(fname=\"./Data/mnist_test_labels.csv\", X=y_test, delimiter=\",\", fmt=\"%d\")"
   ]
  }
 ],
 "metadata": {
  "kernelspec": {
   "display_name": "Python 3",
   "language": "python",
   "name": "python3"
  },
  "language_info": {
   "codemirror_mode": {
    "name": "ipython",
    "version": 3
   },
   "file_extension": ".py",
   "mimetype": "text/x-python",
   "name": "python",
   "nbconvert_exporter": "python",
   "pygments_lexer": "ipython3",
   "version": "3.7.4"
  }
 },
 "nbformat": 4,
 "nbformat_minor": 2
}
